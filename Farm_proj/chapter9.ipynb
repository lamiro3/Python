{
 "cells": [
  {
   "cell_type": "markdown",
   "metadata": {},
   "source": [
    "# Cascade Classifier\n",
    "- 트리 기반 부스트된 거절 캐스케이드 개념을 기초로 하며 얼굴 인식을 목적으로 했다가 이후 그 목적을 일반화해서 얼굴 말고도 대부분의 물체(강체) 인식이 가능함"
   ]
  },
  {
   "cell_type": "code",
   "execution_count": 2,
   "metadata": {},
   "outputs": [],
   "source": [
    "import cv2\n",
    "import numpy as np\n",
    "\n",
    "face_cascade = cv2.CascadeClassifier('./Cascades/haarcascade_frontalface_default.xml')\n",
    "eye_cascade = cv2.CascadeClassifier('./Cascades/haarcascade_eye.xml')\n",
    "\n",
    "cap = cv2.VideoCapture(0) # 카메라 캡쳐 활성화\n",
    "while cap.isOpened():\n",
    "    ret, img = cap.read()\n",
    "    if ret:\n",
    "        gray = cv2.cvtColor(img, cv2.COLOR_BGR2GRAY)\n",
    "        faces = face_cascade.detectMultiScale(gray, scaleFactor=1.3, minNeighbors = 5, minSize = (80, 80))\n",
    "        for (x, y, w, h) in faces:\n",
    "            cv2.rectangle(img, (x, y), (x+w, y+h), (0, 255, 0), 2)\n",
    "            roi = gray[y:y+h, x:x+w]\n",
    "            \n",
    "            eyes = eye_cascade.detectMultiScale(roi)\n",
    "            for i, (ex, ey, ew, eh) in enumerate(eyes):\n",
    "                if i >= 2:\n",
    "                    break\n",
    "                cv2.rectangle(img[y:y+h, x:x+w], (ex, ey), (ex+ew, ey+eh), (255, 0, 0), 2)\n",
    "            \n",
    "        cv2.imshow('face detect', img)\n",
    "    else:\n",
    "        break\n",
    "    if cv2.waitKey(5) == 27:\n",
    "        break\n",
    "cv2.destroyAllWindows()\n",
    "    "
   ]
  },
  {
   "cell_type": "markdown",
   "metadata": {},
   "source": [
    "# LBPH 얼굴 인식 (Local Binary Pattern Histogram)\n",
    "- 인식한 얼굴이 누구인지를 알아낼 수 있음.\n",
    "- 공간적 관계를 유지하면서 지역적 특징을 추출"
   ]
  },
  {
   "cell_type": "code",
   "execution_count": 2,
   "metadata": {},
   "outputs": [
    {
     "name": "stdout",
     "output_type": "stream",
     "text": [
      "Collecting Samples Completed.\n"
     ]
    }
   ],
   "source": [
    "import cv2\n",
    "import numpy as np\n",
    "import os\n",
    "base_dir = './IMG/train/'\n",
    "target_cnt = 10 # 수집할 사진 수\n",
    "cnt = 0 # 사진 촬영 수\n",
    "\n",
    "face_classifier = cv2.CascadeClassifier('./Cascades/haarcascade_frontalface_default.xml')\n",
    "\n",
    "name = input(\"Insert User Name(Only Alphabet): \")\n",
    "id = input(\"Insert User Id(Non-Duplicate number): \")\n",
    "dir = os.path.join(base_dir, name+'_'+id)\n",
    "\n",
    "if not os.path.exists(dir):\n",
    "    os.mkdir(dir)\n",
    "\n",
    "cap = cv2.VideoCapture(0)\n",
    "while cap.isOpened():\n",
    "    ret, frame = cap.read()\n",
    "    if ret:\n",
    "        img = frame.copy()\n",
    "        gray = cv2.cvtColor(img, cv2.COLOR_BGR2GRAY)\n",
    "        \n",
    "        faces = face_classifier.detectMultiScale(gray, 1.3, 5)\n",
    "        if len(faces) == 1:\n",
    "            (x, y, w, h) = faces[0]\n",
    "            cv2.rectangle(frame, (x,y), (x+w, y+h), (0, 255, 0), 1)\n",
    "            face = gray[y:y+h, x:x+w]\n",
    "            face = cv2.resize(face, (200, 200))\n",
    "            file_name_path = os.path.join(dir, str(cnt) + '.jpg')\n",
    "            cv2.imwrite(file_name_path, face) # 수집한 사진을 설정한 경로에 저장\n",
    "            cv2.putText(frame, str(cnt), (x, y), cv2.FONT_HERSHEY_COMPLEX, 1, (0, 255, 0), 2)\n",
    "            cnt+=1\n",
    "        else:\n",
    "            if len(faces) == 0:\n",
    "                msg = \"no face\"\n",
    "            elif len(faces) > 1:\n",
    "                msg = \"too many face\"\n",
    "            cv2.putText(frame, msg, (10, 50), cv2.FONT_HERSHEY_DUPLEX, 1, (0, 0, 255))\n",
    "        \n",
    "        cv2.imshow('face record', frame)\n",
    "        if cv2.waitKey(1) == 27 or cnt == target_cnt:\n",
    "            break\n",
    "\n",
    "cap.release()\n",
    "cv2.destroyAllWindows()\n",
    "print(\"Collecting Samples Completed.\")"
   ]
  },
  {
   "cell_type": "code",
   "execution_count": 1,
   "metadata": {},
   "outputs": [
    {
     "ename": "AttributeError",
     "evalue": "module 'cv2' has no attribute 'face'",
     "output_type": "error",
     "traceback": [
      "\u001b[1;31m---------------------------------------------------------------------------\u001b[0m",
      "\u001b[1;31mAttributeError\u001b[0m                            Traceback (most recent call last)",
      "\u001b[1;32m~\\AppData\\Local\\Temp/ipykernel_16228/3188479372.py\u001b[0m in \u001b[0;36m<module>\u001b[1;34m\u001b[0m\n\u001b[0;32m      6\u001b[0m \u001b[0mbase_dir\u001b[0m \u001b[1;33m=\u001b[0m \u001b[1;34m'./IMG/train/'\u001b[0m\u001b[1;33m\u001b[0m\u001b[1;33m\u001b[0m\u001b[0m\n\u001b[0;32m      7\u001b[0m \u001b[0mtrain_data\u001b[0m\u001b[1;33m,\u001b[0m \u001b[0mtrain_labels\u001b[0m \u001b[1;33m=\u001b[0m \u001b[1;33m[\u001b[0m\u001b[1;33m]\u001b[0m\u001b[1;33m,\u001b[0m \u001b[1;33m[\u001b[0m\u001b[1;33m]\u001b[0m\u001b[1;33m\u001b[0m\u001b[1;33m\u001b[0m\u001b[0m\n\u001b[1;32m----> 8\u001b[1;33m \u001b[0mrecognizer\u001b[0m \u001b[1;33m=\u001b[0m \u001b[0mcv2\u001b[0m\u001b[1;33m.\u001b[0m\u001b[0mface\u001b[0m\u001b[1;33m.\u001b[0m\u001b[0mLBPHFaceRecognizer_create\u001b[0m\u001b[1;33m(\u001b[0m\u001b[1;33m)\u001b[0m\u001b[1;33m\u001b[0m\u001b[1;33m\u001b[0m\u001b[0m\n\u001b[0m\u001b[0;32m      9\u001b[0m \u001b[1;33m\u001b[0m\u001b[0m\n\u001b[0;32m     10\u001b[0m \u001b[0mdirs\u001b[0m \u001b[1;33m=\u001b[0m \u001b[1;33m[\u001b[0m\u001b[0md\u001b[0m \u001b[1;32mfor\u001b[0m \u001b[0md\u001b[0m \u001b[1;32min\u001b[0m \u001b[0mglob\u001b[0m\u001b[1;33m.\u001b[0m\u001b[0mglob\u001b[0m\u001b[1;33m(\u001b[0m\u001b[0mbase_dir\u001b[0m\u001b[1;33m+\u001b[0m\u001b[1;34m'/*'\u001b[0m\u001b[1;33m)\u001b[0m \u001b[1;32mif\u001b[0m \u001b[0mos\u001b[0m\u001b[1;33m.\u001b[0m\u001b[0mpath\u001b[0m\u001b[1;33m.\u001b[0m\u001b[0misdir\u001b[0m\u001b[1;33m(\u001b[0m\u001b[0md\u001b[0m\u001b[1;33m)\u001b[0m\u001b[1;33m]\u001b[0m\u001b[1;33m\u001b[0m\u001b[1;33m\u001b[0m\u001b[0m\n",
      "\u001b[1;31mAttributeError\u001b[0m: module 'cv2' has no attribute 'face'"
     ]
    }
   ],
   "source": [
    "import cv2\n",
    "import numpy as np\n",
    "import os\n",
    "import glob\n",
    "\n",
    "base_dir = './IMG/train/'\n",
    "train_data, train_labels = [], []\n",
    "recognizer = cv2.face.LBPHFaceRecognizer_create()\n",
    "\n",
    "dirs = [d for d in glob.glob(base_dir+'/*') if os.path.isdir(d)]\n",
    "\n",
    "print('Collecting train data set...')\n",
    "\n",
    "for dir in dirs:\n",
    "    id = dir.split('_')[1]\n",
    "    files = glob.glob(dir+'/*.jpg')\n",
    "    print('\\t path:%s, %dfiles'%(dir, len(files)))\n",
    "    \n",
    "    for file in files:\n",
    "        img = cv2.imread(file, cv2.IMREAD_GRAYSCALE)\n",
    "        train_data.append(np.asarray(img, dtype=np.uint8))\n",
    "        train_labels.append(int(id))\n",
    "        \n",
    "train_data = np.asarray(train_data)\n",
    "train_labels = np.int32(train_labels)\n",
    "\n",
    "print('Starting LBP Model training...')\n",
    "model = recognizer\n",
    "model.train(train_data, train_labels)\n",
    "model.write('./IMG/train/all_face.xml')\n",
    "print(\"Model trained successfully!\")"
   ]
  },
  {
   "cell_type": "code",
   "execution_count": null,
   "metadata": {},
   "outputs": [],
   "source": [
    "# 훈련한 LBP 얼굴 인식기로 얼굴 인식은 PASS..."
   ]
  }
 ],
 "metadata": {
  "interpreter": {
   "hash": "e4cce46d6be9934fbd27f9ca0432556941ea5bdf741d4f4d64c6cd7f8dfa8fba"
  },
  "kernelspec": {
   "display_name": "Python 3.9.7 ('base')",
   "language": "python",
   "name": "python3"
  },
  "language_info": {
   "codemirror_mode": {
    "name": "ipython",
    "version": 3
   },
   "file_extension": ".py",
   "mimetype": "text/x-python",
   "name": "python",
   "nbconvert_exporter": "python",
   "pygments_lexer": "ipython3",
   "version": "3.9.7"
  },
  "orig_nbformat": 4
 },
 "nbformat": 4,
 "nbformat_minor": 2
}
