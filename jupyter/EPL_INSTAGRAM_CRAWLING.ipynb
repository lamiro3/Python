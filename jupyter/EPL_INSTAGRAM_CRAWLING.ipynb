{
 "cells": [
  {
   "cell_type": "code",
   "execution_count": null,
   "metadata": {},
   "outputs": [],
   "source": [
    "from bs4 import BeautifulSoup\n",
    "from selenium import webdriver\n",
    "import time\n",
    "\n",
    "driver = webdriver.Chrome(executable_path='C:/Users/고태현/Documents/chromedriver_win32/chromedriver')\n",
    "time.sleep(2)\n",
    "\n",
    "driver.get('https://www.instagram.com/')\n",
    "\n",
    "# 로그인\n",
    "\n",
    "EMAIL, PW = 'lamiro3@naver.com', 'Thko4033**'\n",
    "\n",
    "emailBox = driver.find_element_by_xpath('/html/body/div[1]/section/main/article/div[2]/div[1]/div[2]/form/div/div[1]/div/label/input')\n",
    "pwBox = driver.find_element_by_xpath('//*[@id=\"loginForm\"]/div/div[2]/div/label/input')\n",
    "login_btn = driver.find_element_by_xpath('/html/body/div[1]/section/main/article/div[2]/div[1]/div[2]/form/div/div[3]/button')\n",
    "\n",
    "emailBox.send_keys(EMAIL)\n",
    "pwBox.send_keys(PW)\n",
    "login_btn.click()\n",
    "\n",
    "# 검색\n",
    "\n",
    "searchBox = driver.find_element_by_xpath('//*[@id=\"react-root\"]/section/nav/div[2]/div/div/div[2]/div[1]/div')\n",
    "searchBox.click()\n",
    "\n",
    "search = driver.find_element_by_xpath('/html/body/div[1]/section/nav/div[2]/div/div/div[2]/input')\n",
    "search.send_keys('epl')"
   ]
  },
  {
   "cell_type": "code",
   "execution_count": null,
   "metadata": {},
   "outputs": [],
   "source": [
    "from bs4 import BeautifulSoup\n",
    "from selenium import webdriver\n",
    "from selenium.webdriver.common.keys import Keys\n",
    "import time\n",
    "import re\n",
    "\n",
    "driver = webdriver.Chrome(executable_path='C:/Users/고태현/Documents/chromedriver_win32/chromedriver')\n",
    "NAVER = 'https://www.naver.com'\n",
    "\n",
    "def getNewsURLS(URL):\n",
    "    driver.get(URL)\n",
    "    driver.implicitly_wait(4)\n",
    "\n",
    "    SearchBtn = driver.find_element_by_xpath('/html/body/div[2]/div[2]/div[1]/div/div[3]/form/fieldset/button')\n",
    "    SearchBox = driver.find_element_by_xpath('/html/body/div[2]/div[2]/div[1]/div/div[3]/form/fieldset/div/input')\n",
    "\n",
    "    SearchBox.send_keys('러시아 우크라이나 전쟁')\n",
    "    SearchBtn.click()\n",
    "\n",
    "    NewsBtn = driver.find_element_by_xpath('/html/body/div[3]/div[1]/div/div[2]/div[1]/div/ul/li[2]/a')\n",
    "    NewsBtn.click()\n",
    "\n",
    "    news_url_list = []\n",
    "\n",
    "    html = driver.page_source\n",
    "    soup = BeautifulSoup(html, 'lxml')\n",
    "\n",
    "    news_urls = soup.find_all('a', 'news_tit', href=True)\n",
    "\n",
    "    for news_url in news_urls:\n",
    "        news_url_list.append(news_url['href'])\n",
    "    \n",
    "    return news_url_list\n",
    "\n",
    "url = getNewsURLS(NAVER)[0]\n",
    "\n",
    "driver.get(url)\n",
    "html = driver.page_source\n",
    "soup = BeautifulSoup(html, 'lxml')\n",
    "\n",
    "article = soup.find('div', 'article').find('span').get_text()\n",
    "\n",
    "cleaned_text = re.sub('[^\\s\\w]', ' ', article) # \\w는 문자 \\s는 공백입니다. ^는 not을 의미합니다.\n",
    "cleaned_text = re.sub('\\s+', ' ', cleaned_text)\n",
    "\n",
    "print(cleaned_text)"
   ]
  },
  {
   "cell_type": "code",
   "execution_count": null,
   "metadata": {},
   "outputs": [],
   "source": []
  }
 ],
 "metadata": {
  "interpreter": {
   "hash": "e4cce46d6be9934fbd27f9ca0432556941ea5bdf741d4f4d64c6cd7f8dfa8fba"
  },
  "kernelspec": {
   "display_name": "Python 3.9.7 ('base')",
   "language": "python",
   "name": "python3"
  },
  "language_info": {
   "codemirror_mode": {
    "name": "ipython",
    "version": 3
   },
   "file_extension": ".py",
   "mimetype": "text/x-python",
   "name": "python",
   "nbconvert_exporter": "python",
   "pygments_lexer": "ipython3",
   "version": "3.9.7"
  },
  "orig_nbformat": 4
 },
 "nbformat": 4,
 "nbformat_minor": 2
}
